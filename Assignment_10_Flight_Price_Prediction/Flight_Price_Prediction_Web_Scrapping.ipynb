{
 "cells": [
  {
   "cell_type": "code",
   "execution_count": 1,
   "id": "386a6841",
   "metadata": {},
   "outputs": [],
   "source": [
    "# Importing necessary library files\n",
    "import warnings\n",
    "warnings.simplefilter(\"ignore\")\n",
    "warnings.filterwarnings(\"ignore\")\n",
    "\n",
    "\n",
    "import selenium\n",
    "import pandas as pd\n",
    "import numpy as np\n",
    "import time\n",
    "import requests\n",
    "import re\n",
    "from selenium import webdriver \n",
    "from selenium.webdriver.common.by import By\n",
    "from selenium.webdriver.common.keys import Keys\n",
    "from selenium.webdriver.support.ui import WebDriverWait\n",
    "from selenium.webdriver.common.action_chains import ActionChains\n",
    "from selenium.webdriver.support import expected_conditions as EC\n",
    "from selenium.common.exceptions import ElementNotVisibleException\n",
    "from selenium.common.exceptions import StaleElementReferenceException, NoSuchElementException, ElementClickInterceptedException"
   ]
  },
  {
   "cell_type": "code",
   "execution_count": 2,
   "id": "cd8382c2",
   "metadata": {},
   "outputs": [],
   "source": [
    "# Connecting to the webdriver \n",
    "driver = webdriver.Chrome(r\"\\Users\\User\\Desktop\\PROJECTS\\FLIP ROBO\\chromedriver\\chromedriver.exe\")\n",
    "driver.maximize_window()        # Maximizing the window"
   ]
  },
  {
   "cell_type": "code",
   "execution_count": 3,
   "id": "87e03a7b",
   "metadata": {},
   "outputs": [],
   "source": [
    "# Getting the webpage of mentioned url\n",
    "url = \"https://www.yatra.com/\"\n",
    "driver.get(url)\n",
    "time.sleep(3)"
   ]
  },
  {
   "cell_type": "code",
   "execution_count": 4,
   "id": "b182da10",
   "metadata": {},
   "outputs": [],
   "source": [
    "name=[] #empty list\n",
    "source=[] #empty list\n",
    "dest=[] #empty list\n",
    "dep=[] #empty list\n",
    "arr=[] #empty list\n",
    "duration =[] #empty list\n",
    "stops=[] #empty list\n",
    "info=[] #empty list\n",
    "price=[] #empty list\n",
    "url=[] #empty list"
   ]
  },
  {
   "cell_type": "code",
   "execution_count": 5,
   "id": "dd68070d",
   "metadata": {},
   "outputs": [],
   "source": [
    "#the site uses cookies, click on I agree\n",
    "Iagree = driver.find_element(By.XPATH, \"//button[@class='btngdpr']\")\n",
    "Iagree.click()"
   ]
  },
  {
   "cell_type": "code",
   "execution_count": 6,
   "id": "1019e8c3",
   "metadata": {},
   "outputs": [],
   "source": [
    "#click on first location, \"New DElhi\", in section of popular domestic flight routes \n",
    "domdelhi = driver.find_element(By.XPATH, \"//div[@class='popular_destination popular-destination-module carousalModuleArea'][1]/ul/li[1]\")\n",
    "domdelhi.click()\n",
    "\n",
    "#collecting flights from Delhi to popular stops\n",
    "urldm = driver.find_elements(By.XPATH,\"//div[@class='popular_destination popular-destination-module carousalModuleArea'][1]/div/div/div/div[1]/div/a\")\n",
    "for i in urldm[:]:\n",
    "        url.append(i.get_attribute('href')) "
   ]
  },
  {
   "cell_type": "code",
   "execution_count": 7,
   "id": "40e3e6b3",
   "metadata": {},
   "outputs": [],
   "source": [
    "#click on second location, \"Mumbai\", in section of popular domestic flight routes \n",
    "dommum = driver.find_element(By.XPATH, \"//div[@class='popular_destination popular-destination-module carousalModuleArea'][1]/ul/li[2]\")\n",
    "dommum.click()\n",
    "     \n",
    "#collecting flights from Mumbai to popular stops\n",
    "urlmum = driver.find_elements(By.XPATH,\"//div[@class='popular_destination popular-destination-module carousalModuleArea'][1]/div/div/div/div[1]/div/a\")\n",
    "for i in urlmum[:]:\n",
    "        url.append(i.get_attribute('href')) "
   ]
  },
  {
   "cell_type": "code",
   "execution_count": 8,
   "id": "1a5f6a9e",
   "metadata": {},
   "outputs": [],
   "source": [
    "#click on third location, \"BANGALORE\", in section of popular domestic flight routes \n",
    "dombgl = driver.find_element(By.XPATH, \"//div[@class='popular_destination popular-destination-module carousalModuleArea'][1]/ul/li[3]\")\n",
    "dombgl.click()\n",
    "\n",
    "#collecting flights from BANGALORE to popular stops\n",
    "urlbnl = driver.find_elements(By.XPATH,\"//div[@class='popular_destination popular-destination-module carousalModuleArea'][1]/div/div/div/div[1]/div/a\")\n",
    "for i in urlbnl[:]:\n",
    "        url.append(i.get_attribute('href')) "
   ]
  },
  {
   "cell_type": "code",
   "execution_count": 9,
   "id": "ec99a95e",
   "metadata": {},
   "outputs": [],
   "source": [
    "#click on fourth location, \"HYDERABAD\", in section of popular domestic flight routes \n",
    "domhyd = driver.find_element(By.XPATH, \"//div[@class='popular_destination popular-destination-module carousalModuleArea'][1]/ul/li[4]\")\n",
    "domhyd.click()\n",
    "     \n",
    "#collecting flights from HYDERABAD to popular stops\n",
    "urlhyd = driver.find_elements(By.XPATH,\"//div[@class='popular_destination popular-destination-module carousalModuleArea'][1]/div/div/div/div[1]/div/a\")\n",
    "for i in urlhyd[:]:\n",
    "        url.append(i.get_attribute('href'))"
   ]
  },
  {
   "cell_type": "code",
   "execution_count": 10,
   "id": "13fb0af5",
   "metadata": {},
   "outputs": [
    {
     "ename": "SyntaxError",
     "evalue": "invalid syntax (Temp/ipykernel_22632/1061731337.py, line 8)",
     "output_type": "error",
     "traceback": [
      "\u001b[1;36m  File \u001b[1;32m\"C:\\Users\\User\\AppData\\Local\\Temp/ipykernel_22632/1061731337.py\"\u001b[1;36m, line \u001b[1;32m8\u001b[0m\n\u001b[1;33m    url.append(i.get_attribute('href'))res = [i for i in details if 'day' not in i]\u001b[0m\n\u001b[1;37m                                       ^\u001b[0m\n\u001b[1;31mSyntaxError\u001b[0m\u001b[1;31m:\u001b[0m invalid syntax\n"
     ]
    }
   ],
   "source": [
    "#click on fifth location, \"Kolkata\", in section of popular domestic flight routes \n",
    "domkol = driver.find_element(By.XPATH, \"//div[@class='popular_destination popular-destination-module carousalModuleArea'][1]/ul/li[5]\")\n",
    "domkol.click()\n",
    "\n",
    "#collecting flights from Kolkata to popular stops\n",
    "urlkol = driver.find_elements(By.XPATH,\"//div[@class='popular_destination popular-destination-module carousalModuleArea'][1]/div/div/div/div[1]/div/a\")\n",
    "for i in urlkol[:]:\n",
    "        url.append(i.get_attribute('href'))res = [i for i in details if 'day' not in i]\n",
    "len(res)"
   ]
  },
  {
   "cell_type": "code",
   "execution_count": 11,
   "id": "4cd8d83f",
   "metadata": {},
   "outputs": [
    {
     "data": {
      "text/plain": [
       "40"
      ]
     },
     "execution_count": 11,
     "metadata": {},
     "output_type": "execute_result"
    }
   ],
   "source": [
    "len(url)"
   ]
  },
  {
   "cell_type": "code",
   "execution_count": 12,
   "id": "11d8830a",
   "metadata": {},
   "outputs": [],
   "source": [
    "details=[]\n",
    "for j in url:      #fetching data of various flights from each page\n",
    "    driver.get(j)\n",
    "    time.sleep(2)\n",
    "    \n",
    "    #driver.find_element(By.XPATH,\"//span[@class='flR mr15 view_more']/a\").click()\n",
    "#i-b text ellipsis\n",
    "    airline=driver.find_elements(By.XPATH,\"//div[@class='flight-det table full-width clearfix']\")\n",
    "    for i in airline:\n",
    "        details.append(i.text)\n",
    "    "
   ]
  },
  {
   "cell_type": "code",
   "execution_count": 13,
   "id": "eedd4c10",
   "metadata": {},
   "outputs": [
    {
     "data": {
      "text/html": [
       "<div>\n",
       "<style scoped>\n",
       "    .dataframe tbody tr th:only-of-type {\n",
       "        vertical-align: middle;\n",
       "    }\n",
       "\n",
       "    .dataframe tbody tr th {\n",
       "        vertical-align: top;\n",
       "    }\n",
       "\n",
       "    .dataframe thead th {\n",
       "        text-align: right;\n",
       "    }\n",
       "</style>\n",
       "<table border=\"1\" class=\"dataframe\">\n",
       "  <thead>\n",
       "    <tr style=\"text-align: right;\">\n",
       "      <th></th>\n",
       "      <th>0</th>\n",
       "    </tr>\n",
       "  </thead>\n",
       "  <tbody>\n",
       "    <tr>\n",
       "      <th>0</th>\n",
       "      <td>Vistara\\nUK-979/956\\n13:25\\nNew Delhi\\n18:45\\n...</td>\n",
       "    </tr>\n",
       "    <tr>\n",
       "      <th>1</th>\n",
       "      <td>Vistara\\nUK-929/918\\n21:20\\nNew Delhi\\n06:15\\n...</td>\n",
       "    </tr>\n",
       "    <tr>\n",
       "      <th>2</th>\n",
       "      <td>Vistara\\nUK-959/956\\n06:30\\nNew Delhi\\n18:45\\n...</td>\n",
       "    </tr>\n",
       "    <tr>\n",
       "      <th>3</th>\n",
       "      <td>Vistara\\nUK-969/918\\n18:00\\nNew Delhi\\n06:15\\n...</td>\n",
       "    </tr>\n",
       "    <tr>\n",
       "      <th>4</th>\n",
       "      <td>Vistara\\nUK-929/936\\n21:20\\nNew Delhi\\n09:40\\n...</td>\n",
       "    </tr>\n",
       "  </tbody>\n",
       "</table>\n",
       "</div>"
      ],
      "text/plain": [
       "                                                   0\n",
       "0  Vistara\\nUK-979/956\\n13:25\\nNew Delhi\\n18:45\\n...\n",
       "1  Vistara\\nUK-929/918\\n21:20\\nNew Delhi\\n06:15\\n...\n",
       "2  Vistara\\nUK-959/956\\n06:30\\nNew Delhi\\n18:45\\n...\n",
       "3  Vistara\\nUK-969/918\\n18:00\\nNew Delhi\\n06:15\\n...\n",
       "4  Vistara\\nUK-929/936\\n21:20\\nNew Delhi\\n09:40\\n..."
      ]
     },
     "execution_count": 13,
     "metadata": {},
     "output_type": "execute_result"
    }
   ],
   "source": [
    "detail_df=pd.DataFrame(details)\n",
    "detail_df.head()"
   ]
  },
  {
   "cell_type": "code",
   "execution_count": 14,
   "id": "42336bce",
   "metadata": {},
   "outputs": [
    {
     "data": {
      "text/plain": [
       "363"
      ]
     },
     "execution_count": 14,
     "metadata": {},
     "output_type": "execute_result"
    }
   ],
   "source": [
    "res = [i for i in details if 'day' not in i]\n",
    "len(res)"
   ]
  },
  {
   "cell_type": "code",
   "execution_count": 15,
   "id": "d9b529ee",
   "metadata": {},
   "outputs": [],
   "source": [
    "del_row=detail_df.index[detail_df[0].str.find('day') != -1].tolist()"
   ]
  },
  {
   "cell_type": "code",
   "execution_count": 16,
   "id": "31961ab3",
   "metadata": {},
   "outputs": [],
   "source": [
    "del_df = [detail_df[0].index.values for i in detail_df[0] if 'day' in i]"
   ]
  },
  {
   "cell_type": "code",
   "execution_count": 17,
   "id": "2bd11069",
   "metadata": {},
   "outputs": [
    {
     "data": {
      "text/plain": [
       "494"
      ]
     },
     "execution_count": 17,
     "metadata": {},
     "output_type": "execute_result"
    }
   ],
   "source": [
    "len(details)"
   ]
  },
  {
   "cell_type": "code",
   "execution_count": 18,
   "id": "7f2fc8f8",
   "metadata": {},
   "outputs": [],
   "source": [
    "Airlines_details=[]  \n",
    "for i in res:\n",
    "    Airlines_details.append(i.split('\\n'))"
   ]
  },
  {
   "cell_type": "code",
   "execution_count": 19,
   "id": "e8188101",
   "metadata": {},
   "outputs": [],
   "source": [
    "name=[]\n",
    "for i in Airlines_details:\n",
    "    name.append(i[0])"
   ]
  },
  {
   "cell_type": "code",
   "execution_count": 20,
   "id": "b3fb6201",
   "metadata": {},
   "outputs": [],
   "source": [
    "source=[] #empty list\n",
    "for i in Airlines_details:\n",
    "    source.append(i[3])"
   ]
  },
  {
   "cell_type": "code",
   "execution_count": 21,
   "id": "b1dd7f1b",
   "metadata": {},
   "outputs": [],
   "source": [
    "destination=[] #empty list\n",
    "for i in Airlines_details:\n",
    "    destination.append(i[5])"
   ]
  },
  {
   "cell_type": "code",
   "execution_count": 22,
   "id": "1c1497a5",
   "metadata": {},
   "outputs": [],
   "source": [
    "dep_time=[] #empty list\n",
    "for i in Airlines_details:\n",
    "    dep_time.append(i[2])"
   ]
  },
  {
   "cell_type": "code",
   "execution_count": 23,
   "id": "5e61219e",
   "metadata": {},
   "outputs": [],
   "source": [
    "arr_time=[] #empty list\n",
    "for i in Airlines_details:\n",
    "    arr_time.append(i[4])"
   ]
  },
  {
   "cell_type": "code",
   "execution_count": 24,
   "id": "dfcd6e10",
   "metadata": {},
   "outputs": [],
   "source": [
    "duration =[] #empty list\n",
    "for i in Airlines_details:\n",
    "    duration.append(i[6])"
   ]
  },
  {
   "cell_type": "code",
   "execution_count": 25,
   "id": "ffe08980",
   "metadata": {},
   "outputs": [],
   "source": [
    "stops=[] #empty list\n",
    "for i in Airlines_details:\n",
    "    stops.append(i[7])"
   ]
  },
  {
   "cell_type": "code",
   "execution_count": 26,
   "id": "484ce68d",
   "metadata": {},
   "outputs": [],
   "source": [
    "price=[] #empty list\n",
    "for i in Airlines_details:\n",
    "    if i[8].find('at')==-1:\n",
    "        price.append(i[8])\n",
    "    else:\n",
    "        pos=i[8].find('at')\n",
    "        price.append(i[8][pos+2:])"
   ]
  },
  {
   "cell_type": "code",
   "execution_count": 27,
   "id": "07a37bfe",
   "metadata": {},
   "outputs": [],
   "source": [
    "info=[] #empty list\n",
    "for j in url:      #fetching data of various flights from each page\n",
    "    driver.get(j)\n",
    "    time.sleep(2)\n",
    "    try:    \n",
    "        #fetching the additional information of the flight\n",
    "        ad=driver.find_elements(By.XPATH,\"//div[@class='features pull-right fs-12 flex']\")\n",
    "        for k in ad:\n",
    "            y=k.text.split('\\n')\n",
    "            if y[0]=='Free Meal' or y[0]=='No Meal Fare':\n",
    "                info.append(y[0])\n",
    "            else:\n",
    "                info.append('No info')\n",
    "    except:\n",
    "        info.append('No info')"
   ]
  },
  {
   "cell_type": "code",
   "execution_count": 28,
   "id": "14b323fe",
   "metadata": {},
   "outputs": [
    {
     "data": {
      "text/html": [
       "<div>\n",
       "<style scoped>\n",
       "    .dataframe tbody tr th:only-of-type {\n",
       "        vertical-align: middle;\n",
       "    }\n",
       "\n",
       "    .dataframe tbody tr th {\n",
       "        vertical-align: top;\n",
       "    }\n",
       "\n",
       "    .dataframe thead th {\n",
       "        text-align: right;\n",
       "    }\n",
       "</style>\n",
       "<table border=\"1\" class=\"dataframe\">\n",
       "  <thead>\n",
       "    <tr style=\"text-align: right;\">\n",
       "      <th></th>\n",
       "      <th>0</th>\n",
       "    </tr>\n",
       "  </thead>\n",
       "  <tbody>\n",
       "    <tr>\n",
       "      <th>0</th>\n",
       "      <td>Free Meal</td>\n",
       "    </tr>\n",
       "    <tr>\n",
       "      <th>2</th>\n",
       "      <td>Free Meal</td>\n",
       "    </tr>\n",
       "    <tr>\n",
       "      <th>11</th>\n",
       "      <td>No info</td>\n",
       "    </tr>\n",
       "    <tr>\n",
       "      <th>12</th>\n",
       "      <td>No info</td>\n",
       "    </tr>\n",
       "    <tr>\n",
       "      <th>13</th>\n",
       "      <td>No info</td>\n",
       "    </tr>\n",
       "    <tr>\n",
       "      <th>...</th>\n",
       "      <td>...</td>\n",
       "    </tr>\n",
       "    <tr>\n",
       "      <th>489</th>\n",
       "      <td>No info</td>\n",
       "    </tr>\n",
       "    <tr>\n",
       "      <th>490</th>\n",
       "      <td>No info</td>\n",
       "    </tr>\n",
       "    <tr>\n",
       "      <th>491</th>\n",
       "      <td>No Meal Fare</td>\n",
       "    </tr>\n",
       "    <tr>\n",
       "      <th>492</th>\n",
       "      <td>No Meal Fare</td>\n",
       "    </tr>\n",
       "    <tr>\n",
       "      <th>493</th>\n",
       "      <td>No info</td>\n",
       "    </tr>\n",
       "  </tbody>\n",
       "</table>\n",
       "<p>363 rows × 1 columns</p>\n",
       "</div>"
      ],
      "text/plain": [
       "                0\n",
       "0       Free Meal\n",
       "2       Free Meal\n",
       "11        No info\n",
       "12        No info\n",
       "13        No info\n",
       "..            ...\n",
       "489       No info\n",
       "490       No info\n",
       "491  No Meal Fare\n",
       "492  No Meal Fare\n",
       "493       No info\n",
       "\n",
       "[363 rows x 1 columns]"
      ]
     },
     "execution_count": 28,
     "metadata": {},
     "output_type": "execute_result"
    }
   ],
   "source": [
    "info_df=pd.DataFrame(info)\n",
    "info_df=info_df.drop(del_row)\n",
    "info_df"
   ]
  },
  {
   "cell_type": "code",
   "execution_count": 29,
   "id": "07a521dc",
   "metadata": {},
   "outputs": [
    {
     "name": "stdout",
     "output_type": "stream",
     "text": [
      "363 363 363 363 363 363 363 363\n"
     ]
    }
   ],
   "source": [
    "print(len(name),len(source),len(destination),len(dep_time),len(arr_time),len(duration),len(stops),len(price)) "
   ]
  },
  {
   "cell_type": "code",
   "execution_count": 30,
   "id": "494de1d2",
   "metadata": {},
   "outputs": [
    {
     "data": {
      "text/html": [
       "<div>\n",
       "<style scoped>\n",
       "    .dataframe tbody tr th:only-of-type {\n",
       "        vertical-align: middle;\n",
       "    }\n",
       "\n",
       "    .dataframe tbody tr th {\n",
       "        vertical-align: top;\n",
       "    }\n",
       "\n",
       "    .dataframe thead th {\n",
       "        text-align: right;\n",
       "    }\n",
       "</style>\n",
       "<table border=\"1\" class=\"dataframe\">\n",
       "  <thead>\n",
       "    <tr style=\"text-align: right;\">\n",
       "      <th></th>\n",
       "      <th>Airline</th>\n",
       "      <th>Source</th>\n",
       "      <th>Destination</th>\n",
       "      <th>Dep_Time</th>\n",
       "      <th>Arrival_Time</th>\n",
       "      <th>Duration</th>\n",
       "      <th>Total_Stops</th>\n",
       "      <th>Additional_Info</th>\n",
       "      <th>Price (in ₹)</th>\n",
       "    </tr>\n",
       "  </thead>\n",
       "  <tbody>\n",
       "    <tr>\n",
       "      <th>0</th>\n",
       "      <td>Vistara</td>\n",
       "      <td>New Delhi</td>\n",
       "      <td>Mumbai</td>\n",
       "      <td>13:25</td>\n",
       "      <td>18:45</td>\n",
       "      <td>5h 20m</td>\n",
       "      <td>1 Stop</td>\n",
       "      <td>Free Meal</td>\n",
       "      <td>4,102</td>\n",
       "    </tr>\n",
       "    <tr>\n",
       "      <th>1</th>\n",
       "      <td>Vistara</td>\n",
       "      <td>New Delhi</td>\n",
       "      <td>Mumbai</td>\n",
       "      <td>06:30</td>\n",
       "      <td>18:45</td>\n",
       "      <td>12h 15m</td>\n",
       "      <td>1 Stop</td>\n",
       "      <td>NaN</td>\n",
       "      <td>4,102</td>\n",
       "    </tr>\n",
       "    <tr>\n",
       "      <th>2</th>\n",
       "      <td>IndiGo</td>\n",
       "      <td>New Delhi</td>\n",
       "      <td>Mumbai</td>\n",
       "      <td>14:15</td>\n",
       "      <td>16:30</td>\n",
       "      <td>2h 15m</td>\n",
       "      <td>Non Stop</td>\n",
       "      <td>Free Meal</td>\n",
       "      <td>4,299</td>\n",
       "    </tr>\n",
       "    <tr>\n",
       "      <th>3</th>\n",
       "      <td>IndiGo</td>\n",
       "      <td>New Delhi</td>\n",
       "      <td>Mumbai</td>\n",
       "      <td>16:25</td>\n",
       "      <td>18:40</td>\n",
       "      <td>2h 15m</td>\n",
       "      <td>Non Stop</td>\n",
       "      <td>NaN</td>\n",
       "      <td>4,299</td>\n",
       "    </tr>\n",
       "    <tr>\n",
       "      <th>4</th>\n",
       "      <td>IndiGo</td>\n",
       "      <td>New Delhi</td>\n",
       "      <td>Mumbai</td>\n",
       "      <td>11:00</td>\n",
       "      <td>13:20</td>\n",
       "      <td>2h 20m</td>\n",
       "      <td>Non Stop</td>\n",
       "      <td>NaN</td>\n",
       "      <td>4,299</td>\n",
       "    </tr>\n",
       "    <tr>\n",
       "      <th>...</th>\n",
       "      <td>...</td>\n",
       "      <td>...</td>\n",
       "      <td>...</td>\n",
       "      <td>...</td>\n",
       "      <td>...</td>\n",
       "      <td>...</td>\n",
       "      <td>...</td>\n",
       "      <td>...</td>\n",
       "      <td>...</td>\n",
       "    </tr>\n",
       "    <tr>\n",
       "      <th>358</th>\n",
       "      <td>IndiGo</td>\n",
       "      <td>Bangalore</td>\n",
       "      <td>Kochi</td>\n",
       "      <td>07:15</td>\n",
       "      <td>08:20</td>\n",
       "      <td>1h 05m</td>\n",
       "      <td>Non Stop</td>\n",
       "      <td>No info</td>\n",
       "      <td>2,169</td>\n",
       "    </tr>\n",
       "    <tr>\n",
       "      <th>359</th>\n",
       "      <td>IndiGo</td>\n",
       "      <td>Bangalore</td>\n",
       "      <td>Kochi</td>\n",
       "      <td>13:10</td>\n",
       "      <td>14:20</td>\n",
       "      <td>1h 10m</td>\n",
       "      <td>Non Stop</td>\n",
       "      <td>No info</td>\n",
       "      <td>2,169</td>\n",
       "    </tr>\n",
       "    <tr>\n",
       "      <th>360</th>\n",
       "      <td>Alliance Air</td>\n",
       "      <td>Bangalore</td>\n",
       "      <td>Kochi</td>\n",
       "      <td>07:05</td>\n",
       "      <td>08:25</td>\n",
       "      <td>1h 20m</td>\n",
       "      <td>Non Stop</td>\n",
       "      <td>No info</td>\n",
       "      <td>2,191</td>\n",
       "    </tr>\n",
       "    <tr>\n",
       "      <th>361</th>\n",
       "      <td>Alliance Air</td>\n",
       "      <td>Bangalore</td>\n",
       "      <td>Kochi</td>\n",
       "      <td>18:30</td>\n",
       "      <td>19:50</td>\n",
       "      <td>1h 20m</td>\n",
       "      <td>Non Stop</td>\n",
       "      <td>No info</td>\n",
       "      <td>2,191</td>\n",
       "    </tr>\n",
       "    <tr>\n",
       "      <th>362</th>\n",
       "      <td>IndiGo</td>\n",
       "      <td>Bangalore</td>\n",
       "      <td>Kochi</td>\n",
       "      <td>05:20</td>\n",
       "      <td>06:35</td>\n",
       "      <td>1h 15m</td>\n",
       "      <td>Non Stop</td>\n",
       "      <td>No info</td>\n",
       "      <td>2,200</td>\n",
       "    </tr>\n",
       "  </tbody>\n",
       "</table>\n",
       "<p>363 rows × 9 columns</p>\n",
       "</div>"
      ],
      "text/plain": [
       "          Airline     Source Destination Dep_Time Arrival_Time Duration  \\\n",
       "0         Vistara  New Delhi      Mumbai    13:25        18:45   5h 20m   \n",
       "1         Vistara  New Delhi      Mumbai    06:30        18:45  12h 15m   \n",
       "2          IndiGo  New Delhi      Mumbai    14:15        16:30   2h 15m   \n",
       "3          IndiGo  New Delhi      Mumbai    16:25        18:40   2h 15m   \n",
       "4          IndiGo  New Delhi      Mumbai    11:00        13:20   2h 20m   \n",
       "..            ...        ...         ...      ...          ...      ...   \n",
       "358        IndiGo  Bangalore       Kochi    07:15        08:20   1h 05m   \n",
       "359        IndiGo  Bangalore       Kochi    13:10        14:20   1h 10m   \n",
       "360  Alliance Air  Bangalore       Kochi    07:05        08:25   1h 20m   \n",
       "361  Alliance Air  Bangalore       Kochi    18:30        19:50   1h 20m   \n",
       "362        IndiGo  Bangalore       Kochi    05:20        06:35   1h 15m   \n",
       "\n",
       "    Total_Stops Additional_Info Price (in ₹)  \n",
       "0        1 Stop       Free Meal        4,102  \n",
       "1        1 Stop             NaN        4,102  \n",
       "2      Non Stop       Free Meal        4,299  \n",
       "3      Non Stop             NaN        4,299  \n",
       "4      Non Stop             NaN        4,299  \n",
       "..          ...             ...          ...  \n",
       "358    Non Stop         No info        2,169  \n",
       "359    Non Stop         No info        2,169  \n",
       "360    Non Stop         No info        2,191  \n",
       "361    Non Stop         No info        2,191  \n",
       "362    Non Stop         No info        2,200  \n",
       "\n",
       "[363 rows x 9 columns]"
      ]
     },
     "execution_count": 30,
     "metadata": {},
     "output_type": "execute_result"
    }
   ],
   "source": [
    "Flight = pd.DataFrame({})   #creating a datafrmae\n",
    "Flight['Airline']=name\n",
    "Flight['Source']=source\n",
    "Flight['Destination']=destination\n",
    "Flight['Dep_Time']=dep_time\n",
    "Flight['Arrival_Time']=arr_time\n",
    "Flight['Duration']=duration\n",
    "Flight['Total_Stops']=stops\n",
    "Flight['Additional_Info']=info_df[0]\n",
    "Flight['Price (in ₹)']=price\n",
    "Flight"
   ]
  },
  {
   "cell_type": "code",
   "execution_count": 31,
   "id": "727ebf0b",
   "metadata": {},
   "outputs": [],
   "source": [
    "Flight.to_csv('Flight price Dataset.csv')\n",
    "#saving/exporting the dataset into excel"
   ]
  },
  {
   "cell_type": "code",
   "execution_count": 32,
   "id": "256134bc",
   "metadata": {},
   "outputs": [],
   "source": [
    "driver.quit()\n",
    "#closing the chrome driver"
   ]
  },
  {
   "cell_type": "code",
   "execution_count": null,
   "id": "965455f8",
   "metadata": {},
   "outputs": [],
   "source": []
  }
 ],
 "metadata": {
  "kernelspec": {
   "display_name": "Python 3 (ipykernel)",
   "language": "python",
   "name": "python3"
  },
  "language_info": {
   "codemirror_mode": {
    "name": "ipython",
    "version": 3
   },
   "file_extension": ".py",
   "mimetype": "text/x-python",
   "name": "python",
   "nbconvert_exporter": "python",
   "pygments_lexer": "ipython3",
   "version": "3.9.7"
  }
 },
 "nbformat": 4,
 "nbformat_minor": 5
}
